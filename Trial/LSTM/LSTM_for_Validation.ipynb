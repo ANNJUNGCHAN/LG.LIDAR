{
 "cells": [
  {
   "cell_type": "markdown",
   "metadata": {},
   "source": [
    "# LSTM for Validation\n",
    "- 같은 Train Set에서 Train set과 Validation set을 나눈 후, 사전에 모델을 평가하기 위한 코드입니다.\n",
    "- 최종 제출은 Test Set으로 진행하므로, 이에 대한 것은 LSTM for Submit 파일을 참고해주세요."
   ]
  },
  {
   "cell_type": "markdown",
   "metadata": {},
   "source": [
    "### 패키지 로딩"
   ]
  },
  {
   "cell_type": "code",
   "execution_count": 165,
   "metadata": {},
   "outputs": [],
   "source": [
    "### Data Handling\n",
    "import pandas as pd\n",
    "import numpy as np\n",
    "\n",
    "### fix seed\n",
    "import random\n",
    "import os\n",
    "def seed_everything(seed):\n",
    "    random.seed(seed)\n",
    "    os.environ['PYTHONHASHSEED'] = str(seed)\n",
    "    np.random.seed(seed)\n",
    "seed_everything(42)\n",
    "\n",
    "### Keras and TensorFlow\n",
    "import keras\n",
    "import tensorflow as tf\n",
    "\n",
    "### Scoring\n",
    "import sklearn.metrics as metrics"
   ]
  },
  {
   "cell_type": "markdown",
   "metadata": {},
   "source": [
    "### 데이터 로딩"
   ]
  },
  {
   "cell_type": "code",
   "execution_count": 166,
   "metadata": {},
   "outputs": [],
   "source": [
    "X = pd.read_csv(\"C:\\LG_Aimers\\data\\Train-Test-Split\\X_train.csv\")\n",
    "y = pd.read_csv(\"C:/LG_Aimers/data/Train-Test-Split/y_train.csv\")"
   ]
  },
  {
   "cell_type": "markdown",
   "metadata": {},
   "source": [
    "### 데이터 전처리"
   ]
  },
  {
   "cell_type": "markdown",
   "metadata": {},
   "source": [
    "#### 같은 값을 가지는 열을 모두 제거"
   ]
  },
  {
   "cell_type": "code",
   "execution_count": 167,
   "metadata": {},
   "outputs": [],
   "source": [
    "### X 데이터의 열 중 같은 값을 가지는 열을 모두 제거\n",
    "X_desc = X.describe().T.reset_index()\n",
    "X_is_1=list(X_desc[X_desc[\"mean\"] == 1]['index'])\n",
    "X.drop(columns = X_is_1, inplace = True)\n",
    "\n",
    "print(X.shape)\n",
    "print(y.shape)\n",
    "\n",
    "### Validation set에도 동일한 절차로 진행\n",
    "X_valid = pd.read_csv(\"C:\\LG_Aimers\\data\\Train-Test-Split\\X_valid.csv\")\n",
    "y_valid = pd.read_csv(\"C:/LG_Aimers/data/Train-Test-Split/y_valid.csv\")\n",
    "X_valid = X_valid.drop(columns = [\"Unnamed: 0\"])\n",
    "X_valid.drop(columns = X_is_1, inplace = True)\n",
    "X_valid=np.array(X_valid)\n",
    "X_valid = X_valid.reshape(X_valid.shape[0],1,X_valid.shape[1])\n",
    "y_valid = y_valid.drop(columns = [\"Unnamed: 0\"])\n",
    "y_valid=np.array(y_valid)"
   ]
  },
  {
   "cell_type": "markdown",
   "metadata": {},
   "source": [
    "#### 스펙 범위 내 데이터"
   ]
  },
  {
   "cell_type": "code",
   "execution_count": 171,
   "metadata": {},
   "outputs": [],
   "source": [
    "### X 데이터 중 스펙범위 내 데이터만 가져옴\n",
    "spec = pd.read_csv(\"C:\\LG_Aimers\\data\\meta\\y_feature_spec_info.csv\")\n",
    "for i in range(len(spec)) :\n",
    "    X = X[y[spec[\"Feature\"][i]].between(spec[\"최소\"][i], spec[\"최대\"][i])]\n",
    "X.shape\n",
    "\n",
    "### y 데이터 중 스펙범위 내 데이터만 가져옴\n",
    "spec = pd.read_csv(\"C:\\LG_Aimers\\data\\meta\\y_feature_spec_info.csv\")\n",
    "for i in range(len(spec)) :\n",
    "    y = y[y[spec[\"Feature\"][i]].between(spec[\"최소\"][i], spec[\"최대\"][i])]\n",
    "y.shape"
   ]
  },
  {
   "cell_type": "markdown",
   "metadata": {},
   "source": [
    "#### 3차원 형 변환"
   ]
  },
  {
   "cell_type": "code",
   "execution_count": 174,
   "metadata": {},
   "outputs": [],
   "source": [
    "X = X.drop(columns = [\"Unnamed: 0\"])\n",
    "X=np.array(X)\n",
    "X = X.reshape(X.shape[0],1,X.shape[1])\n",
    "\n",
    "y = y.drop(columns = [\"Unnamed: 0\"])\n",
    "y=np.array(y)\n",
    "y = y.reshape(y.shape[0],1,y.shape[1])\n",
    "\n",
    "print(\"X : \", X.shape)\n",
    "print(\"y : \", y.shape)"
   ]
  },
  {
   "cell_type": "markdown",
   "metadata": {},
   "source": [
    "### 모델 구축"
   ]
  },
  {
   "cell_type": "code",
   "execution_count": null,
   "metadata": {},
   "outputs": [],
   "source": [
    "### 모델 생성 함수 정의\n",
    "def lstm_autoencoder():\n",
    "    feature_number = X.shape[2]\n",
    "    lstm_ae = keras.models.Sequential()\n",
    " \n",
    "    # 인코더\n",
    "    lstm_ae.add(keras.layers.LSTM(64, activation=\"relu\", input_shape=(1, feature_number), return_sequences=True))\n",
    "    lstm_ae.add(keras.layers.LSTM(32, activation=\"relu\", return_sequences=True))\n",
    "    lstm_ae.add(keras.layers.LSTM(16, activation=\"relu\", return_sequences=False))\n",
    "    lstm_ae.add(keras.layers.RepeatVector(1))\n",
    "    lstm_ae.add(keras.layers.LSTM(16, activation=\"relu\", return_sequences=True))\n",
    "    lstm_ae.add(keras.layers.LSTM(32, activation=\"relu\", return_sequences=True))\n",
    "    lstm_ae.add(keras.layers.LSTM(64, activation=\"relu\", return_sequences=True))\n",
    "    # 디코더\n",
    "    lstm_ae.add(keras.layers.TimeDistributed(keras.layers.Dense(14)))\n",
    "    return lstm_ae\n",
    " \n",
    "lstm_ae0 = lstm_autoencoder()"
   ]
  },
  {
   "cell_type": "markdown",
   "metadata": {},
   "source": [
    "### 모델 최적화"
   ]
  },
  {
   "cell_type": "code",
   "execution_count": null,
   "metadata": {},
   "outputs": [],
   "source": [
    "# 파라미터 설정\n",
    "epochs = 300\n",
    "batch_size = 256\n",
    "learning_rate = 0.01\n",
    "validation = 0.2\n",
    "\n",
    "# compile\n",
    "lstm_ae0.compile(loss=\"mse\", optimizer=tf.keras.optimizers.Adam(learning_rate))\n",
    "\n",
    "# 모델학습\n",
    "history = lstm_ae0.fit(\n",
    "    X,\n",
    "    y,\n",
    "    epochs=epochs,\n",
    "    batch_size=batch_size,\n",
    "    validation_split=validation,\n",
    "    callbacks=[\n",
    "        tf.keras.callbacks.EarlyStopping(monitor=\"val_loss\", patience=10, mode=\"min\")\n",
    "    ],\n",
    ")\n",
    " \n",
    "lstm_ae0.save('lstm_ae0.h5') # 모델 저장"
   ]
  },
  {
   "cell_type": "markdown",
   "metadata": {},
   "source": [
    "### 모델 학습 과정 평가"
   ]
  },
  {
   "cell_type": "code",
   "execution_count": 181,
   "metadata": {},
   "outputs": [
    {
     "data": {
      "image/png": "[encoded data removed]",
      "text/plain": [
       "<Figure size 432x288 with 1 Axes>"
      ]
     },
     "metadata": {
      "needs_background": "light"
     },
     "output_type": "display_data"
    }
   ],
   "source": [
    "import matplotlib.pyplot as plt\n",
    "plt.plot(history.history[\"loss\"], label=\"Train Loss\")\n",
    "plt.plot(history.history[\"val_loss\"], label=\"Valid Loss\")\n",
    "plt.legend()\n",
    "plt.show()"
   ]
  },
  {
   "cell_type": "markdown",
   "metadata": {},
   "source": [
    "### 예측 및 평가"
   ]
  },
  {
   "cell_type": "code",
   "execution_count": 182,
   "metadata": {},
   "outputs": [],
   "source": [
    "### 예측\n",
    "y_predict = lstm_ae0.predict(X_valid)\n",
    "y_predict = np.array(y_predict)\n",
    "y_predict = y_predict.reshape(y_predict.shape[0],y_predict.shape[2])\n",
    "\n",
    "### 스코어링 함수 정의\n",
    "def lg_nrmse(gt, preds):\n",
    "    # 각 Y Feature별 NRMSE 총합\n",
    "    # Y_01 ~ Y_08 까지 20% 가중치 부여\n",
    "    all_nrmse = []\n",
    "    for idx in range(0,14): # ignore 'ID'\n",
    "        rmse = metrics.mean_squared_error(gt[:,idx], preds[:,idx], squared=False)\n",
    "        nrmse = rmse/np.mean(np.abs(gt[:,idx]))\n",
    "        all_nrmse.append(nrmse)\n",
    "    score = 1.2 * np.sum(all_nrmse[:8]) + 1.0 * np.sum(all_nrmse[8:15])\n",
    "    return score"
   ]
  },
  {
   "cell_type": "code",
   "execution_count": 187,
   "metadata": {},
   "outputs": [
    {
     "data": {
      "text/plain": [
       "2.1802411382939515"
      ]
     },
     "execution_count": 187,
     "metadata": {},
     "output_type": "execute_result"
    }
   ],
   "source": [
    "### 평가\n",
    "lg_nrmse(y_valid, y_predict)"
   ]
  }
 ],
 "metadata": {
  "kernelspec": {
   "display_name": "Python 3.9.12 ('env')",
   "language": "python",
   "name": "python3"
  },
  "language_info": {
   "codemirror_mode": {
    "name": "ipython",
    "version": 3
   },
   "file_extension": ".py",
   "mimetype": "text/x-python",
   "name": "python",
   "nbconvert_exporter": "python",
   "pygments_lexer": "ipython3",
   "version": "3.9.12"
  },
  "orig_nbformat": 4,
  "vscode": {
   "interpreter": {
    "hash": "c8c8540e0960871b600e3f40e1e37dd4369b4892e9ee484b4784a47d7408b04b"
   }
  }
 },
 "nbformat": 4,
 "nbformat_minor": 2
}
