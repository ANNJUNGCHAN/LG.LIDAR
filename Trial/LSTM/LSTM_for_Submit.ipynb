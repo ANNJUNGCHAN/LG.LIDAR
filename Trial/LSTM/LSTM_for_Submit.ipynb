{
 "cells": [
  {
   "cell_type": "markdown",
   "metadata": {},
   "source": [
    "# LSTM AutoEncoder for Submit\n",
    "- 기본적인 LSTM 구현 코드입니다.\n",
    "- Validation 데이터를 가지고 평가하는 것이 목적이 아니라, 오직 제출이 목적입니다.\n",
    "- 평가하는 항목은 LSTM_Validation.ipynb를 참고해주세요."
   ]
  },
  {
   "cell_type": "markdown",
   "metadata": {},
   "source": [
    "### 패키지 로딩"
   ]
  },
  {
   "cell_type": "code",
   "execution_count": 86,
   "metadata": {},
   "outputs": [],
   "source": [
    "### Data Handling\n",
    "import pandas as pd\n",
    "import numpy as np\n",
    "\n",
    "### seed fix\n",
    "import random\n",
    "import os\n",
    "def seed_everything(seed):\n",
    "    random.seed(seed)\n",
    "    os.environ['PYTHONHASHSEED'] = str(seed)\n",
    "    np.random.seed(seed)\n",
    "seed_everything(42)\n",
    "\n",
    "### KERAS and TensorFlow\n",
    "import keras\n",
    "import tensorflow as tf"
   ]
  },
  {
   "cell_type": "markdown",
   "metadata": {},
   "source": [
    "### 데이터 로딩"
   ]
  },
  {
   "cell_type": "code",
   "execution_count": 87,
   "metadata": {},
   "outputs": [],
   "source": [
    "### 데이터 셋 불러오기\n",
    "train = pd.read_csv('C:/LG_Aimers/data/train.csv')\n",
    "X = train[['X_01', 'X_02', 'X_03', 'X_04', 'X_05', 'X_06', 'X_07', 'X_08',\n",
    "       'X_09', 'X_10', 'X_11', 'X_12', 'X_13', 'X_14', 'X_15', 'X_16', 'X_17',\n",
    "       'X_18', 'X_19', 'X_20', 'X_21', 'X_22', 'X_23', 'X_24', 'X_25', 'X_26',\n",
    "       'X_27', 'X_28', 'X_29', 'X_30', 'X_31', 'X_32', 'X_33', 'X_34', 'X_35',\n",
    "       'X_36', 'X_37', 'X_38', 'X_39', 'X_40', 'X_41', 'X_42', 'X_43', 'X_44',\n",
    "       'X_45', 'X_46', 'X_47', 'X_48', 'X_49', 'X_50', 'X_51', 'X_52', 'X_53',\n",
    "       'X_54', 'X_55', 'X_56']]\n",
    "y = train[['Y_01', 'Y_02', 'Y_03', 'Y_04', 'Y_05', 'Y_06',\n",
    "       'Y_07', 'Y_08', 'Y_09', 'Y_10', 'Y_11', 'Y_12', 'Y_13', 'Y_14']]\n",
    "\n",
    "### 3차원 형 변환(LSTM에 들어가기 위해선 3차원 형태로 데이터가 정의되어야 한다.)\n",
    "X=np.array(X)\n",
    "X = X.reshape(X.shape[0],1,X.shape[1])\n",
    "y=np.array(y)\n",
    "y = y.reshape(y.shape[0],1,y.shape[1])\n",
    "print(\"X : \", X.shape)\n",
    "print(\"y : \", y.shape)"
   ]
  },
  {
   "cell_type": "markdown",
   "metadata": {},
   "source": [
    "### 오토인코더 모델 구축"
   ]
  },
  {
   "cell_type": "code",
   "execution_count": null,
   "metadata": {},
   "outputs": [],
   "source": [
    "### 모델 구축 함수 정의\n",
    "def lstm_autoencoder():\n",
    "    feature_number = X.shape[2]\n",
    "    lstm_ae = keras.models.Sequential()\n",
    " \n",
    "    # 인코더\n",
    "    lstm_ae.add(keras.layers.LSTM(512, activation=\"relu\", input_shape=(1, feature_number), return_sequences=True))\n",
    "    lstm_ae.add(keras.layers.LSTM(256, activation=\"relu\", return_sequences=True))\n",
    "    #lstm_ae.add(keras.layers.RepeatVector(1))\n",
    " \n",
    "    # 디코더\n",
    "    lstm_ae.add(keras.layers.LSTM(128, activation=\"relu\", return_sequences=True))\n",
    "    lstm_ae.add(keras.layers.LSTM(64, activation=\"relu\", return_sequences=True))\n",
    "    lstm_ae.add(keras.layers.LSTM(32, activation=\"relu\", return_sequences=True))\n",
    "    lstm_ae.add(keras.layers.TimeDistributed(keras.layers.Dense(14)))\n",
    " \n",
    "    print(lstm_ae.summary())\n",
    "    return lstm_ae\n",
    " \n",
    "lstm_ae0 = lstm_autoencoder()"
   ]
  },
  {
   "cell_type": "markdown",
   "metadata": {},
   "source": [
    "### 모델 최적화"
   ]
  },
  {
   "cell_type": "code",
   "execution_count": null,
   "metadata": {},
   "outputs": [],
   "source": [
    "# 파라미터 설정\n",
    "epochs = 300\n",
    "batch_size = 128\n",
    "learning_rate = 0.001\n",
    "validation = 0.2\n",
    "\n",
    "# compile\n",
    "lstm_ae0.compile(loss=\"mse\", optimizer=tf.keras.optimizers.Adam(learning_rate))\n",
    "\n",
    "# 모델학습\n",
    "history = lstm_ae0.fit(\n",
    "    X,\n",
    "    y,\n",
    "    epochs=epochs,\n",
    "    batch_size=batch_size,\n",
    "    validation_split=validation,\n",
    "    callbacks=[\n",
    "        #tf.keras.callbacks.EarlyStopping(monitor=\"val_loss\", patience=2, mode=\"min\")\n",
    "    ],\n",
    ")\n",
    " \n",
    "lstm_ae0.save('lstm_ae0_submit.h5') # 모델 저장"
   ]
  },
  {
   "cell_type": "markdown",
   "metadata": {},
   "source": [
    "### 모델 학습 진행 결과 파악"
   ]
  },
  {
   "cell_type": "code",
   "execution_count": null,
   "metadata": {},
   "outputs": [
    {
     "data": {
      "image/png": "[encoded data removed]",
      "text/plain": [
       "<Figure size 432x288 with 1 Axes>"
      ]
     },
     "metadata": {
      "needs_background": "light"
     },
     "output_type": "display_data"
    }
   ],
   "source": [
    "import matplotlib.pyplot as plt\n",
    "plt.plot(history.history[\"loss\"], label=\"Train Loss\")\n",
    "plt.plot(history.history[\"val_loss\"], label=\"Valid Loss\")\n",
    "plt.legend()\n",
    "plt.show()"
   ]
  },
  {
   "cell_type": "markdown",
   "metadata": {},
   "source": [
    "### 예측 및 제출"
   ]
  },
  {
   "cell_type": "code",
   "execution_count": null,
   "metadata": {},
   "outputs": [],
   "source": [
    "### test set 불러오기\n",
    "test = pd.read_csv('C:/LG_Aimers/data/test.csv')\n",
    "test = test.drop(columns=[\"ID\"])\n",
    "test = np.array(test)\n",
    "test = test.reshape(test.shape[0],1,test.shape[1])\n",
    "test = lstm_ae0.predict(test)\n",
    "test = test.reshape(test.shape[0],test.shape[2])\n",
    "test = pd.DataFrame(test)\n",
    "\n",
    "### submission 양식 맞추기\n",
    "submission = pd.read_csv(\"C:\\LG_Aimers\\data\\sample_submission.csv\")\n",
    "id=submission[\"ID\"]\n",
    "test.columns=submission.drop(columns = [\"ID\"]).columns\n",
    "submission_final = pd.concat([id,test],axis = 1)\n",
    "\n",
    "### 제출하기\n",
    "submission_final.to_csv(\"C:\\LG_Aimers\\code\\lstm_submit.csv\", index=False)"
   ]
  }
 ],
 "metadata": {
  "kernelspec": {
   "display_name": "Python 3.9.12 ('env')",
   "language": "python",
   "name": "python3"
  },
  "language_info": {
   "codemirror_mode": {
    "name": "ipython",
    "version": 3
   },
   "file_extension": ".py",
   "mimetype": "text/x-python",
   "name": "python",
   "nbconvert_exporter": "python",
   "pygments_lexer": "ipython3",
   "version": "3.9.12"
  },
  "orig_nbformat": 4,
  "vscode": {
   "interpreter": {
    "hash": "c8c8540e0960871b600e3f40e1e37dd4369b4892e9ee484b4784a47d7408b04b"
   }
  }
 },
 "nbformat": 4,
 "nbformat_minor": 2
}
