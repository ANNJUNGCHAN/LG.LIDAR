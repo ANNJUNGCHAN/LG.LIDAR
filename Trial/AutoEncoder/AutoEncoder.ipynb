{
 "cells": [
  {
   "cell_type": "markdown",
   "metadata": {},
   "source": [
    "# AutoEncoder 구축하기\n",
    "- 간단한 오토 인코더 구축에 대해서 다룹니다.\n",
    "- 간단하기 때문에 참고만 하는 것이 좋을 것 같아요."
   ]
  },
  {
   "cell_type": "markdown",
   "metadata": {},
   "source": [
    "### 패키지 로딩"
   ]
  },
  {
   "cell_type": "code",
   "execution_count": 2,
   "metadata": {},
   "outputs": [],
   "source": [
    "### Data Handling\n",
    "import pandas as pd\n",
    "import numpy as np\n",
    "\n",
    "### fix seed\n",
    "import random\n",
    "import os\n",
    "def seed_everything(seed):\n",
    "    random.seed(seed)\n",
    "    os.environ['PYTHONHASHSEED'] = str(seed)\n",
    "    np.random.seed(seed)\n",
    "seed_everything(42)\n",
    "\n",
    "### keras & tensorflow\n",
    "import keras\n",
    "from keras import layers\n",
    "import tensorflow as tf\n",
    "\n",
    "### scoring\n",
    "import sklearn.metrics as metrics"
   ]
  },
  {
   "cell_type": "markdown",
   "metadata": {},
   "source": [
    "### 데이터 로딩"
   ]
  },
  {
   "cell_type": "code",
   "execution_count": 108,
   "metadata": {},
   "outputs": [],
   "source": [
    "### 데이터 로딩\n",
    "X = pd.read_csv(\"C:\\LG_Aimers\\data\\Train-Test-Split\\X_train.csv\")\n",
    "y = pd.read_csv(\"C:/LG_Aimers/data/Train-Test-Split/y_train.csv\")\n",
    "\n",
    "### numpy 변환\n",
    "X = X.drop(columns = [\"Unnamed: 0\"])\n",
    "X=np.array(X)\n",
    "y = y.drop(columns = [\"Unnamed: 0\"])\n",
    "y=np.array(y)\n",
    "print(\"X : \", X.shape)\n",
    "print(\"y : \", y.shape)"
   ]
  },
  {
   "cell_type": "markdown",
   "metadata": {},
   "source": [
    "#### 모델 구축"
   ]
  },
  {
   "cell_type": "code",
   "execution_count": null,
   "metadata": {},
   "outputs": [],
   "source": [
    "### 모델 구축\n",
    "input = layers.Input(shape=(X.shape[1],))\n",
    "encoded = layers.Dense(512, activation='relu')(input)\n",
    "encoded = layers.Flatten(256)(encoded)\n",
    "encoded = layers.Dense(128, activation='relu')(encoded)\n",
    "encoded = layers.Flatten(64)(encoded)\n",
    "encoded = layers.Dense(32, activation='relu')(encoded)\n",
    "encoded = layers.Flatten(16)(encoded)\n",
    "encoded = layers.Dense(8, activation='relu')(encoded)\n",
    "encoded = layers.Flatten(4)(encoded)\n",
    "encoded = layers.Dense(2, activation='relu')(encoded)\n",
    "decoded = layers.Dense(y.shape[1], activation='relu')(encoded)\n",
    "\n",
    "### 모델 형성\n",
    "autoencoder = keras.Model(inputs=input, outputs=decoded)\n",
    "autoencoder.summary()"
   ]
  },
  {
   "cell_type": "markdown",
   "metadata": {},
   "source": [
    "### 최적화 방식 결정 및 학습"
   ]
  },
  {
   "cell_type": "code",
   "execution_count": null,
   "metadata": {},
   "outputs": [],
   "source": [
    "# 파라미터 설정\n",
    "epochs = 300\n",
    "batch_size = 128\n",
    "learning_rate = 0.001\n",
    "validation = 0.2\n",
    "\n",
    "# compile\n",
    "autoencoder.compile(loss=\"mse\", optimizer=tf.keras.optimizers.Adam(learning_rate))\n",
    "\n",
    "# 모델학습\n",
    "history = autoencoder.fit(\n",
    "    X,\n",
    "    y,\n",
    "    epochs=epochs,\n",
    "    batch_size=batch_size,\n",
    "    validation_split=validation,\n",
    "    callbacks=[\n",
    "        tf.keras.callbacks.EarlyStopping(monitor=\"val_loss\", patience=5, mode=\"min\")\n",
    "    ],\n",
    ")\n",
    "\n",
    "# 모델 저장\n",
    "autoencoder.save('autoencoder.h5')"
   ]
  },
  {
   "cell_type": "code",
   "execution_count": null,
   "metadata": {},
   "outputs": [
    {
     "data": {
      "image/png": "[encoded data removed]",
      "text/plain": [
       "<Figure size 432x288 with 1 Axes>"
      ]
     },
     "metadata": {
      "needs_background": "light"
     },
     "output_type": "display_data"
    }
   ],
   "source": [
    "# 학습 결과 표시\n",
    "import matplotlib.pyplot as plt\n",
    "plt.plot(history.history[\"loss\"], label=\"Train Loss\")\n",
    "plt.plot(history.history[\"val_loss\"], label=\"Valid Loss\")\n",
    "plt.legend()\n",
    "plt.show()"
   ]
  },
  {
   "cell_type": "markdown",
   "metadata": {},
   "source": [
    "### 예측 데이터 전처리"
   ]
  },
  {
   "cell_type": "code",
   "execution_count": null,
   "metadata": {},
   "outputs": [],
   "source": [
    "X_valid = pd.read_csv(\"C:\\LG_Aimers\\data\\Train-Test-Split\\X_valid.csv\")\n",
    "y_valid = pd.read_csv(\"C:/LG_Aimers/data/Train-Test-Split/y_valid.csv\")\n",
    "X_valid = X_valid.drop(columns = [\"Unnamed: 0\"])\n",
    "X_valid=np.array(X_valid)\n",
    "X_valid = X_valid.reshape(X_valid.shape[0],X_valid.shape[1])\n",
    "y_valid = y_valid.drop(columns = [\"Unnamed: 0\"])\n",
    "y_valid=np.array(y_valid)\n",
    "y_valid = y_valid.reshape(y_valid.shape[0],y_valid.shape[1])"
   ]
  },
  {
   "cell_type": "markdown",
   "metadata": {},
   "source": [
    "### 예측 및 평가"
   ]
  },
  {
   "cell_type": "code",
   "execution_count": null,
   "metadata": {},
   "outputs": [],
   "source": [
    "### 예측\n",
    "y_predict = autoencoder.predict(X_valid)\n",
    "print(\"predict shape : \", y_predict.shape)\n",
    "\n",
    "### 저장\n",
    "y_predict = pd.DataFrame(y_predict.reshape(7922,14))\n",
    "y_valid = pd.read_csv(\"C:/LG_Aimers/data/Train-Test-Split/y_valid.csv\")\n",
    "y_valid.drop(columns = [\"Unnamed: 0\"],inplace=True)\n",
    "\n",
    "### 평가를 위한 준비\n",
    "y_predict.columns = y_valid.columns\n",
    "y_valid = np.array(y_valid)\n",
    "y_predict = np.array(y_predict)\n",
    "\n",
    "### score 함수 정의\n",
    "def lg_nrmse(gt, preds):\n",
    "    # 각 Y Feature별 NRMSE 총합\n",
    "    # Y_01 ~ Y_08 까지 20% 가중치 부여\n",
    "    all_nrmse = []\n",
    "    for idx in range(0,14): # ignore 'ID'\n",
    "        rmse = metrics.mean_squared_error(gt[:,idx], preds[:,idx], squared=False)\n",
    "        nrmse = rmse/np.mean(np.abs(gt[:,idx]))\n",
    "        all_nrmse.append(nrmse)\n",
    "    score = 1.2 * np.sum(all_nrmse[:8]) + 1.0 * np.sum(all_nrmse[8:15])\n",
    "    return score\n",
    "\n",
    "### 점수 도출\n",
    "print(lg_nrmse(y_valid, y_predict))"
   ]
  }
 ],
 "metadata": {
  "kernelspec": {
   "display_name": "Python 3.9.12 ('env')",
   "language": "python",
   "name": "python3"
  },
  "language_info": {
   "codemirror_mode": {
    "name": "ipython",
    "version": 3
   },
   "file_extension": ".py",
   "mimetype": "text/x-python",
   "name": "python",
   "nbconvert_exporter": "python",
   "pygments_lexer": "ipython3",
   "version": "3.9.12"
  },
  "orig_nbformat": 4,
  "vscode": {
   "interpreter": {
    "hash": "c8c8540e0960871b600e3f40e1e37dd4369b4892e9ee484b4784a47d7408b04b"
   }
  }
 },
 "nbformat": 4,
 "nbformat_minor": 2
}
