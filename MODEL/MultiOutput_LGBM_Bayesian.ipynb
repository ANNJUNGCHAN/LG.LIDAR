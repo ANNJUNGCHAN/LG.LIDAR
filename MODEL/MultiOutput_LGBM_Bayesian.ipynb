{
 "cells": [
  {
   "cell_type": "markdown",
   "metadata": {},
   "source": [
    "# MultiOutput LGBM Regressor with Bayesian Optimization\n",
    "- MultiOutput Regressor에 Bayesian Optimization을 적용하여 하이퍼 파라미터 튜닝을 실시하였습니다.\n",
    "- 현재 MultiOutput Regressor에 대해서 Bayesian Optimization을 적용한 코드 예시가 없기 때문에 이를 만들었습니다.\n",
    "- 검증은 KFOLD-5를 이용하여 교차검증합니다.\n",
    "- 제일 점수가 잘 나온 하이퍼 파라미터 2개를 이용하여 추후에 앙상블시켰습니다"
   ]
  },
  {
   "cell_type": "markdown",
   "metadata": {},
   "source": [
    "### 패키지 로딩"
   ]
  },
  {
   "cell_type": "code",
   "execution_count": 3,
   "metadata": {},
   "outputs": [],
   "source": [
    "# Data Handling\n",
    "import pandas as pd\n",
    "import numpy as np\n",
    "\n",
    "# Model selection and evaluation\n",
    "from sklearn.model_selection import KFold\n",
    "import sklearn.metrics as metrics\n",
    "\n",
    "# Modeling\n",
    "from lightgbm import LGBMRegressor\n",
    "from sklearn.multioutput import MultiOutputRegressor\n",
    "from bayes_opt import BayesianOptimization"
   ]
  },
  {
   "cell_type": "markdown",
   "metadata": {},
   "source": [
    "### 데이터 로딩"
   ]
  },
  {
   "cell_type": "code",
   "execution_count": 4,
   "metadata": {},
   "outputs": [],
   "source": [
    "# Data Loading\n",
    "data = pd.read_csv('C:/LG_Aimers/LG_Aimers_NEW/data/train.csv')\n",
    "\n",
    "# Data Preprocessing\n",
    "X = data.iloc[:,1:57]\n",
    "y= data.iloc[:,57:]"
   ]
  },
  {
   "cell_type": "markdown",
   "metadata": {},
   "source": [
    "### 평가함수 정의"
   ]
  },
  {
   "cell_type": "code",
   "execution_count": 5,
   "metadata": {},
   "outputs": [],
   "source": [
    "def lg_nrmse(gt, preds):\n",
    "    # 각 Y Feature별 NRMSE 총합\n",
    "    # Y_01 ~ Y_08 까지 20% 가중치 부여\n",
    "    all_nrmse = []\n",
    "    for idx in range(0,14): # ignore 'ID'\n",
    "        rmse = metrics.mean_squared_error(gt[:,idx], preds[:,idx], squared=False)\n",
    "        nrmse = rmse/np.mean(np.abs(gt[:,idx]))\n",
    "        all_nrmse.append(nrmse)\n",
    "    score = 1.2 * np.sum(all_nrmse[:8]) + 1.0 * np.sum(all_nrmse[8:15])\n",
    "    return score"
   ]
  },
  {
   "cell_type": "markdown",
   "metadata": {},
   "source": [
    "### 모델 적합함수 정의"
   ]
  },
  {
   "cell_type": "code",
   "execution_count": 6,
   "metadata": {},
   "outputs": [],
   "source": [
    "def fit_model(X,y,X_test,i,num_leaves, learning_rate, n_estimators, subsample, colsample_bytree):\n",
    "    lgbm_model = MultiOutputRegressor(LGBMRegressor(num_leaves = int(num_leaves),\n",
    "                                                   learning_rate = learning_rate,\n",
    "                                                   n_estimators = int(n_estimators),\n",
    "                                                   subsample = subsample,\n",
    "                                                   colsample_bytree = colsample_bytree)).fit(X,y)\n",
    "    lgbm_predict = lgbm_model.predict(X_test)\n",
    "    return lgbm_predict"
   ]
  },
  {
   "cell_type": "markdown",
   "metadata": {},
   "source": [
    "### Cross Validation 함수 정의"
   ]
  },
  {
   "cell_type": "code",
   "execution_count": 7,
   "metadata": {},
   "outputs": [],
   "source": [
    "def LGBM_cv(num_leaves, learning_rate, n_estimators, subsample, colsample_bytree) :\n",
    "\n",
    "    # KOLD CV\n",
    "    kf=KFold(5,shuffle=True,random_state=1339)\n",
    "    score = 0\n",
    "    i=0\n",
    "    for train_index,val_index in kf.split(X):\n",
    "        i+=1\n",
    "        X_train,X_val=X.iloc[train_index],X.iloc[val_index]\n",
    "        y_train,y_val=y.iloc[train_index],y.iloc[val_index]\n",
    "        LGBM_predict = fit_model(np.array(X_train),np.array(y_train),np.array(X_val),i,num_leaves, learning_rate, n_estimators, subsample, colsample_bytree)\n",
    "        score += lg_nrmse(np.array(y_val),LGBM_predict)\n",
    "\n",
    "    return -score/5"
   ]
  },
  {
   "cell_type": "markdown",
   "metadata": {},
   "source": [
    "### 베이지안 옵티마이저"
   ]
  },
  {
   "cell_type": "code",
   "execution_count": 8,
   "metadata": {},
   "outputs": [],
   "source": [
    "pbounds = {'num_leaves': (16, 1024),        # num_leaves,       범위(16~1024)\n",
    "           'learning_rate': (0.0001, 0.1),  # learning_rate,    범위(0.0001~0.1)\n",
    "           'n_estimators': (16, 1024),      # n_estimators,     범위(16~1024)\n",
    "           'subsample': (0, 1),             # subsample,        범위(0~1)\n",
    "           'colsample_bytree': (0, 1),      # colsample_bytree, 범위(0~1)\n",
    "            }"
   ]
  },
  {
   "cell_type": "code",
   "execution_count": null,
   "metadata": {},
   "outputs": [],
   "source": [
    "bo = BayesianOptimization(f = LGBM_cv, pbounds = pbounds, random_state = 1,verbose = 2)\n",
    "bo.maximize(init_points = 50, n_iter = 200,acq = 'ei',xi = 0.01)"
   ]
  },
  {
   "cell_type": "code",
   "execution_count": null,
   "metadata": {},
   "outputs": [
    {
     "name": "stdout",
     "output_type": "stream",
     "text": [
      "{'target': -0.9884710321697995, 'params': {'colsample_bytree': 0.8749504388228964, 'gamma': 10.083312203045946, 'learning_rate': 0.08251735312986809, 'max_depth': 6.448478384832381, 'min_child_weight': 2.472122241236701, 'n_estimators': 206.1616899422121, 'subsample': 0.8088199427005741}}\n"
     ]
    }
   ],
   "source": [
    "print(bo.max)"
   ]
  }
 ],
 "metadata": {
  "kernelspec": {
   "display_name": "Python 3.9.12 ('env')",
   "language": "python",
   "name": "python3"
  },
  "language_info": {
   "codemirror_mode": {
    "name": "ipython",
    "version": 3
   },
   "file_extension": ".py",
   "mimetype": "text/x-python",
   "name": "python",
   "nbconvert_exporter": "python",
   "pygments_lexer": "ipython3",
   "version": "3.9.12"
  },
  "orig_nbformat": 4,
  "vscode": {
   "interpreter": {
    "hash": "c8c8540e0960871b600e3f40e1e37dd4369b4892e9ee484b4784a47d7408b04b"
   }
  }
 },
 "nbformat": 4,
 "nbformat_minor": 2
}
