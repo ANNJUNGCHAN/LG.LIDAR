{
 "cells": [
  {
   "cell_type": "markdown",
   "metadata": {},
   "source": [
    "### Submission\n",
    "- MultiOutput Bayesian Optimization을 LGBM과 Catboost모델에 각각 적용시켰을 때, 가장 점수가 높게 나온 모델을 각각의 알고리즘에서 2개씩 뽑아 총 4개를 앙상블 시킨 결과가 제일 좋았음.\n",
    "- 앙상블을 시킬 때, 각각의 알고리즘에서 성능이 가장 좋은 모델에 가중치를 2/3, 두번째로 성능이 좋은 모델에 가중치를 1/3 적용시켰음."
   ]
  },
  {
   "cell_type": "markdown",
   "metadata": {},
   "source": [
    "### 패키지 로딩"
   ]
  },
  {
   "cell_type": "code",
   "execution_count": 1,
   "metadata": {},
   "outputs": [
    {
     "name": "stderr",
     "output_type": "stream",
     "text": [
      "c:\\Users\\user\\miniconda3\\envs\\env\\lib\\site-packages\\xgboost\\compat.py:36: FutureWarning: pandas.Int64Index is deprecated and will be removed from pandas in a future version. Use pandas.Index with the appropriate dtype instead.\n",
      "  from pandas import MultiIndex, Int64Index\n"
     ]
    }
   ],
   "source": [
    "# Data Handling\n",
    "import pandas as pd\n",
    "import numpy as np\n",
    "\n",
    "# Visualization\n",
    "import matplotlib.pyplot as plt\n",
    "\n",
    "# fix seed\n",
    "import random\n",
    "import os\n",
    "def seed_everything(seed):\n",
    "    random.seed(seed)\n",
    "    os.environ['PYTHONHASHSEED'] = str(seed)\n",
    "    np.random.seed(seed)\n",
    "seed_everything(42)\n",
    "\n",
    "# Modeling\n",
    "from sklearn.multioutput import MultiOutputRegressor\n",
    "from catboost import CatBoostRegressor\n",
    "from lightgbm import LGBMRegressor"
   ]
  },
  {
   "cell_type": "markdown",
   "metadata": {},
   "source": [
    "### 데이터 로딩 및 처리"
   ]
  },
  {
   "cell_type": "code",
   "execution_count": 3,
   "metadata": {},
   "outputs": [],
   "source": [
    "### Load Data\n",
    "train = pd.read_csv(\"C:/LG_Aimers_NEW/data/train.csv\")\n",
    "test = pd.read_csv(\"C:/LG_Aimers_NEW/data/test.csv\")\n",
    "submission = pd.read_csv(\"C:/LG_Aimers_NEW/data/sample_submission.csv\")\n",
    "\n",
    "### Preprocessing\n",
    "test = test.drop(columns = [\"ID\"])\n",
    "X = train.iloc[:,1:57]\n",
    "y = train.iloc[:,57:]"
   ]
  },
  {
   "cell_type": "markdown",
   "metadata": {},
   "source": [
    "### 모델링"
   ]
  },
  {
   "cell_type": "code",
   "execution_count": 6,
   "metadata": {},
   "outputs": [],
   "source": [
    "cat1 = MultiOutputRegressor(CatBoostRegressor(depth = int(9.981652216959748),bagging_temperature = 6.410670492107986, learning_rate =  0.022984684781070068, subsample = 0.5938399056973557, random_state=1339,verbose = 0)).fit(X, y)\n",
    "cat2 = MultiOutputRegressor(CatBoostRegressor(depth = int(8.842),bagging_temperature = 7.806, learning_rate =  0.02811, subsample = 0.8751, random_state=1339,verbose = 0)).fit(X, y)\n",
    "lgbm1 = MultiOutputRegressor(LGBMRegressor(num_leaves = int(241.3), learning_rate = 0.01618,n_estimators = int(404.4), subsample =0.2837, colsample_bytree =  0.3572)).fit(X, y)\n",
    "lgbm2 = MultiOutputRegressor(LGBMRegressor(num_leaves = int(409.5), learning_rate = 0.0216,n_estimators = int(319.7), subsample =0.04784, colsample_bytree =   0.4813)).fit(X, y)"
   ]
  },
  {
   "cell_type": "code",
   "execution_count": 7,
   "metadata": {},
   "outputs": [],
   "source": [
    "cat1_predict = cat1.predict(test)\n",
    "cat2_predict = cat2.predict(test)\n",
    "lgbm1_predict = lgbm1.predict(test)\n",
    "lgbm2_predict = lgbm2.predict(test)"
   ]
  },
  {
   "cell_type": "markdown",
   "metadata": {},
   "source": [
    "### 예측"
   ]
  },
  {
   "cell_type": "code",
   "execution_count": 8,
   "metadata": {},
   "outputs": [],
   "source": [
    "cat1_predict = pd.DataFrame(cat1_predict)\n",
    "cat2_predict = pd.DataFrame(cat2_predict)"
   ]
  },
  {
   "cell_type": "code",
   "execution_count": 9,
   "metadata": {},
   "outputs": [],
   "source": [
    "lgbm1_predict = pd.DataFrame(lgbm1_predict)\n",
    "lgbm2_predict = pd.DataFrame(lgbm2_predict)"
   ]
  },
  {
   "cell_type": "code",
   "execution_count": 10,
   "metadata": {},
   "outputs": [],
   "source": [
    "cat1_predict.columns = y.columns\n",
    "lgbm1_predict.columns = y.columns\n",
    "cat2_predict.columns = y.columns\n",
    "lgbm2_predict.columns = y.columns"
   ]
  },
  {
   "cell_type": "markdown",
   "metadata": {},
   "source": [
    "### 제출"
   ]
  },
  {
   "cell_type": "code",
   "execution_count": 20,
   "metadata": {},
   "outputs": [],
   "source": [
    "result = pd.DataFrame()"
   ]
  },
  {
   "cell_type": "code",
   "execution_count": 21,
   "metadata": {},
   "outputs": [],
   "source": [
    "for i in y.columns :\n",
    "    result[i] = ((cat1_predict[i] + lgbm1_predict[i])/2)*(2/3) + ((cat2_predict[i] + lgbm2_predict[i])/2)*(1/3)"
   ]
  },
  {
   "cell_type": "code",
   "execution_count": 22,
   "metadata": {},
   "outputs": [],
   "source": [
    "ID = submission[\"ID\"]"
   ]
  },
  {
   "cell_type": "code",
   "execution_count": 23,
   "metadata": {},
   "outputs": [],
   "source": [
    "result = pd.concat([ID,result],axis = 1)"
   ]
  },
  {
   "cell_type": "code",
   "execution_count": 24,
   "metadata": {},
   "outputs": [],
   "source": [
    "result.to_csv(\"C:/LG_Aimers_NEW/submission/submit_cat12_lgbm12_esb_csv.csv\",index = False)"
   ]
  }
 ],
 "metadata": {
  "kernelspec": {
   "display_name": "Python 3.9.12 ('env')",
   "language": "python",
   "name": "python3"
  },
  "language_info": {
   "codemirror_mode": {
    "name": "ipython",
    "version": 3
   },
   "file_extension": ".py",
   "mimetype": "text/x-python",
   "name": "python",
   "nbconvert_exporter": "python",
   "pygments_lexer": "ipython3",
   "version": "3.9.12"
  },
  "orig_nbformat": 4,
  "vscode": {
   "interpreter": {
    "hash": "c8c8540e0960871b600e3f40e1e37dd4369b4892e9ee484b4784a47d7408b04b"
   }
  }
 },
 "nbformat": 4,
 "nbformat_minor": 2
}
