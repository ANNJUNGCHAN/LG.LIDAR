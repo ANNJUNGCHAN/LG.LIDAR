{
 "cells": [
  {
   "cell_type": "markdown",
   "metadata": {},
   "source": [
    "# MultiOutput Catboost Regressor with Bayesian Optimization\n",
    "- MultiOutput Regressor에 Bayesian Optimization을 적용하여 하이퍼 파라미터 튜닝을 실시하였습니다.\n",
    "- 현재 MultiOutput Regressor에 대해서 Bayesian Optimization을 적용한 코드 예시가 없기 때문에 이를 만들었습니다.\n",
    "- 검증은 KFOLD-5를 이용하여 교차검증합니다.\n",
    "- 제일 점수가 잘 나온 하이퍼 파라미터 2개를 이용하여 추후에 앙상블시켰습니다"
   ]
  },
  {
   "cell_type": "markdown",
   "metadata": {},
   "source": [
    "### 패키지 로딩"
   ]
  },
  {
   "cell_type": "code",
   "execution_count": 15,
   "metadata": {},
   "outputs": [],
   "source": [
    "# Data Handling\n",
    "import pandas as pd\n",
    "import numpy as np\n",
    "\n",
    "# Model Validation\n",
    "from sklearn.model_selection import KFold\n",
    "import sklearn.metrics as metrics\n",
    "\n",
    "# Model Building\n",
    "from sklearn.multioutput import MultiOutputRegressor\n",
    "from catboost import CatBoostRegressor\n",
    "from bayes_opt import BayesianOptimization"
   ]
  },
  {
   "cell_type": "markdown",
   "metadata": {},
   "source": [
    "### 데이터 로딩"
   ]
  },
  {
   "cell_type": "code",
   "execution_count": 16,
   "metadata": {},
   "outputs": [],
   "source": [
    "# Data Loading\n",
    "data = pd.read_csv('C:/LG_Aimers_NEW/data/train.csv')\n",
    "\n",
    "# Data Preprocessing\n",
    "X = data.iloc[:,1:57]\n",
    "y= data.iloc[:,57:]"
   ]
  },
  {
   "cell_type": "markdown",
   "metadata": {},
   "source": [
    "### 평가 함수 만들기"
   ]
  },
  {
   "cell_type": "code",
   "execution_count": 17,
   "metadata": {},
   "outputs": [],
   "source": [
    "def lg_nrmse(gt, preds):\n",
    "    # 각 Y Feature별 NRMSE 총합\n",
    "    # Y_01 ~ Y_08 까지 20% 가중치 부여\n",
    "    all_nrmse = []\n",
    "    for idx in range(0,14): # ignore 'ID'\n",
    "        rmse = metrics.mean_squared_error(gt[:,idx], preds[:,idx], squared=False)\n",
    "        nrmse = rmse/np.mean(np.abs(gt[:,idx]))\n",
    "        all_nrmse.append(nrmse)\n",
    "    score = 1.2 * np.sum(all_nrmse[:8]) + 1.0 * np.sum(all_nrmse[8:15])\n",
    "    return score"
   ]
  },
  {
   "cell_type": "markdown",
   "metadata": {},
   "source": [
    "### 모델 적합 함수 만들기"
   ]
  },
  {
   "cell_type": "code",
   "execution_count": 18,
   "metadata": {},
   "outputs": [],
   "source": [
    "def fit_model(X,y,X_test,i,depth,bagging_temperature,learning_rate,subsample):\n",
    "    cat_model = MultiOutputRegressor(CatBoostRegressor(depth = int(depth),\n",
    "                                                        bagging_temperature=bagging_temperature,\n",
    "                                                        learning_rate=learning_rate,\n",
    "                                                        random_state=1339,#\n",
    "                                                        verbose=0,#\n",
    "                                                        subsample=subsample\n",
    "                                                        )).fit(X,y)\n",
    "    cat_predict = cat_model.predict(X_test)\n",
    "    return cat_predict"
   ]
  },
  {
   "cell_type": "markdown",
   "metadata": {},
   "source": [
    "### Cross Validation 함수 정의"
   ]
  },
  {
   "cell_type": "code",
   "execution_count": 19,
   "metadata": {},
   "outputs": [],
   "source": [
    "def CAT_cv(depth,bagging_temperature,learning_rate,subsample):\n",
    "\n",
    "    # KOLD CV\n",
    "    kf=KFold(5,shuffle=True,random_state=1339)\n",
    "    score = 0\n",
    "    i=0\n",
    "    for train_index,val_index in kf.split(X):\n",
    "        i+=1\n",
    "        X_train,X_val=X.iloc[train_index],X.iloc[val_index]\n",
    "        y_train,y_val=y.iloc[train_index],y.iloc[val_index]\n",
    "        cat_predict = fit_model(np.array(X_train),np.array(y_train),np.array(X_val),i,depth,bagging_temperature,learning_rate,subsample)\n",
    "        score += lg_nrmse(np.array(y_val),cat_predict)\n",
    "\n",
    "    return -score/5"
   ]
  },
  {
   "cell_type": "markdown",
   "metadata": {},
   "source": [
    "### Bayesian Optimization"
   ]
  },
  {
   "cell_type": "code",
   "execution_count": 20,
   "metadata": {},
   "outputs": [],
   "source": [
    "# cat pbounds\n",
    "pbounds = { 'depth': (3, 10),\n",
    "            'bagging_temperature': (3, 10),\n",
    "            'learning_rate': (0.01, 1.0),\n",
    "            'subsample' : (0.5,1)\n",
    "            }"
   ]
  },
  {
   "cell_type": "code",
   "execution_count": null,
   "metadata": {},
   "outputs": [],
   "source": [
    "bo = BayesianOptimization(f = CAT_cv, pbounds = pbounds, random_state = 1,verbose = 2)\n",
    "bo.maximize(init_points = 50, n_iter = 200,acq = 'ei',xi = 0.01)"
   ]
  },
  {
   "cell_type": "code",
   "execution_count": null,
   "metadata": {},
   "outputs": [],
   "source": [
    "print(bo.max)"
   ]
  }
 ],
 "metadata": {
  "kernelspec": {
   "display_name": "Python 3.9.12 ('env')",
   "language": "python",
   "name": "python3"
  },
  "language_info": {
   "codemirror_mode": {
    "name": "ipython",
    "version": 3
   },
   "file_extension": ".py",
   "mimetype": "text/x-python",
   "name": "python",
   "nbconvert_exporter": "python",
   "pygments_lexer": "ipython3",
   "version": "3.9.12"
  },
  "orig_nbformat": 4,
  "vscode": {
   "interpreter": {
    "hash": "c8c8540e0960871b600e3f40e1e37dd4369b4892e9ee484b4784a47d7408b04b"
   }
  }
 },
 "nbformat": 4,
 "nbformat_minor": 2
}
