{
 "cells": [
  {
   "cell_type": "markdown",
   "metadata": {},
   "source": [
    "# NULL\n",
    "- 결측치를 파악합니다."
   ]
  },
  {
   "cell_type": "markdown",
   "metadata": {},
   "source": [
    "### 패키지 로딩"
   ]
  },
  {
   "cell_type": "code",
   "execution_count": 1,
   "metadata": {},
   "outputs": [],
   "source": [
    "import pandas as pd\n",
    "import numpy as np\n",
    "import matplotlib as plt"
   ]
  },
  {
   "cell_type": "markdown",
   "metadata": {},
   "source": [
    "### 데이터 로딩"
   ]
  },
  {
   "cell_type": "code",
   "execution_count": 2,
   "metadata": {},
   "outputs": [],
   "source": [
    "data = pd.read_csv(\"C:/LG_Aimers/data/train.csv\")"
   ]
  },
  {
   "cell_type": "markdown",
   "metadata": {},
   "source": [
    "### 결측치 파악"
   ]
  },
  {
   "cell_type": "code",
   "execution_count": 4,
   "metadata": {},
   "outputs": [
    {
     "name": "stdout",
     "output_type": "stream",
     "text": [
      "<class 'pandas.core.frame.DataFrame'>\n",
      "RangeIndex: 39607 entries, 0 to 39606\n",
      "Data columns (total 71 columns):\n",
      " #   Column  Non-Null Count  Dtype  \n",
      "---  ------  --------------  -----  \n",
      " 0   ID      39607 non-null  object \n",
      " 1   X_01    39607 non-null  float64\n",
      " 2   X_02    39607 non-null  float64\n",
      " 3   X_03    39607 non-null  float64\n",
      " 4   X_04    39607 non-null  int64  \n",
      " 5   X_05    39607 non-null  float64\n",
      " 6   X_06    39607 non-null  float64\n",
      " 7   X_07    39607 non-null  float64\n",
      " 8   X_08    39607 non-null  float64\n",
      " 9   X_09    39607 non-null  float64\n",
      " 10  X_10    39607 non-null  float64\n",
      " 11  X_11    39607 non-null  float64\n",
      " 12  X_12    39607 non-null  float64\n",
      " 13  X_13    39607 non-null  float64\n",
      " 14  X_14    39607 non-null  float64\n",
      " 15  X_15    39607 non-null  float64\n",
      " 16  X_16    39607 non-null  float64\n",
      " 17  X_17    39607 non-null  float64\n",
      " 18  X_18    39607 non-null  float64\n",
      " 19  X_19    39607 non-null  float64\n",
      " 20  X_20    39607 non-null  float64\n",
      " 21  X_21    39607 non-null  float64\n",
      " 22  X_22    39607 non-null  float64\n",
      " 23  X_23    39607 non-null  int64  \n",
      " 24  X_24    39607 non-null  float64\n",
      " 25  X_25    39607 non-null  float64\n",
      " 26  X_26    39607 non-null  float64\n",
      " 27  X_27    39607 non-null  float64\n",
      " 28  X_28    39607 non-null  float64\n",
      " 29  X_29    39607 non-null  float64\n",
      " 30  X_30    39607 non-null  float64\n",
      " 31  X_31    39607 non-null  float64\n",
      " 32  X_32    39607 non-null  float64\n",
      " 33  X_33    39607 non-null  float64\n",
      " 34  X_34    39607 non-null  float64\n",
      " 35  X_35    39607 non-null  float64\n",
      " 36  X_36    39607 non-null  float64\n",
      " 37  X_37    39607 non-null  float64\n",
      " 38  X_38    39607 non-null  float64\n",
      " 39  X_39    39607 non-null  float64\n",
      " 40  X_40    39607 non-null  float64\n",
      " 41  X_41    39607 non-null  float64\n",
      " 42  X_42    39607 non-null  float64\n",
      " 43  X_43    39607 non-null  float64\n",
      " 44  X_44    39607 non-null  float64\n",
      " 45  X_45    39607 non-null  float64\n",
      " 46  X_46    39607 non-null  int64  \n",
      " 47  X_47    39607 non-null  int64  \n",
      " 48  X_48    39607 non-null  int64  \n",
      " 49  X_49    39607 non-null  float64\n",
      " 50  X_50    39607 non-null  float64\n",
      " 51  X_51    39607 non-null  float64\n",
      " 52  X_52    39607 non-null  float64\n",
      " 53  X_53    39607 non-null  float64\n",
      " 54  X_54    39607 non-null  float64\n",
      " 55  X_55    39607 non-null  float64\n",
      " 56  X_56    39607 non-null  float64\n",
      " 57  Y_01    39607 non-null  float64\n",
      " 58  Y_02    39607 non-null  float64\n",
      " 59  Y_03    39607 non-null  float64\n",
      " 60  Y_04    39607 non-null  float64\n",
      " 61  Y_05    39607 non-null  float64\n",
      " 62  Y_06    39607 non-null  float64\n",
      " 63  Y_07    39607 non-null  float64\n",
      " 64  Y_08    39607 non-null  float64\n",
      " 65  Y_09    39607 non-null  float64\n",
      " 66  Y_10    39607 non-null  float64\n",
      " 67  Y_11    39607 non-null  float64\n",
      " 68  Y_12    39607 non-null  float64\n",
      " 69  Y_13    39607 non-null  float64\n",
      " 70  Y_14    39607 non-null  float64\n",
      "dtypes: float64(65), int64(5), object(1)\n",
      "memory usage: 21.5+ MB\n"
     ]
    }
   ],
   "source": [
    "data.info()"
   ]
  }
 ],
 "metadata": {
  "kernelspec": {
   "display_name": "Python 3.9.12 ('env')",
   "language": "python",
   "name": "python3"
  },
  "language_info": {
   "codemirror_mode": {
    "name": "ipython",
    "version": 3
   },
   "file_extension": ".py",
   "mimetype": "text/x-python",
   "name": "python",
   "nbconvert_exporter": "python",
   "pygments_lexer": "ipython3",
   "version": "3.9.12"
  },
  "orig_nbformat": 4,
  "vscode": {
   "interpreter": {
    "hash": "c8c8540e0960871b600e3f40e1e37dd4369b4892e9ee484b4784a47d7408b04b"
   }
  }
 },
 "nbformat": 4,
 "nbformat_minor": 2
}
